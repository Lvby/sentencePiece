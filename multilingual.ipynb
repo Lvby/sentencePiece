{
 "cells": [
  {
   "cell_type": "code",
   "execution_count": 1,
   "metadata": {},
   "outputs": [],
   "source": [
    "import sentencepiece as spm"
   ]
  },
  {
   "cell_type": "code",
   "execution_count": 2,
   "metadata": {},
   "outputs": [],
   "source": [
    "sp = spm.SentencePieceProcessor()"
   ]
  },
  {
   "cell_type": "code",
   "execution_count": 3,
   "metadata": {},
   "outputs": [],
   "source": [
    "#Basic end-to-end example"
   ]
  },
  {
   "cell_type": "code",
   "execution_count": 4,
   "metadata": {},
   "outputs": [
    {
     "data": {
      "text/plain": [
       "True"
      ]
     },
     "execution_count": 4,
     "metadata": {},
     "output_type": "execute_result"
    }
   ],
   "source": [
    "#sp_bpe.load('m_bpe.model')\n",
    "sp.Load(\"test/test_model.model\")"
   ]
  },
  {
   "cell_type": "code",
   "execution_count": 5,
   "metadata": {},
   "outputs": [],
   "source": [
    "import os\n",
    "destPath=('../data/always.txt')\n",
    "f=open(destPath, \"r\",  encoding='utf-8')"
   ]
  },
  {
   "cell_type": "code",
   "execution_count": 6,
   "metadata": {},
   "outputs": [],
   "source": [
    "contents =f.read()"
   ]
  },
  {
   "cell_type": "code",
   "execution_count": 7,
   "metadata": {},
   "outputs": [
    {
     "name": "stdout",
     "output_type": "stream",
     "text": [
      "['▁', 'That', '▁A', 'ri', 'z', 'on', 'a', '▁s', 'k', 'y', '▁b', 'ur', 'n', 'ing', '▁in', '▁your', '▁eyes', '\\n', 'You', '▁look', '▁at', '▁me', '▁and', ',', '▁b', 'a', 'b', 'e', ',', '▁I', '▁w', 'an', 'n', 'a', '▁catch', '▁on', '▁f', 'i', 're', '\\n', 'I', 't', \"'\", 's', '▁bu', 'ri', 'ed', '▁in', '▁my', '▁so', 'ul', '▁like', '▁C', 'al', 'if', 'or', 'n', 'i', 'a', '▁go', 'l', 'd', '\\n', 'You', '▁found', '▁the', '▁', 'light', '▁in', '▁me', '▁that', '▁I', '▁could', 'n', \"'\", 't', '▁find', '\\n', 'S', 'o', '▁when', '▁I', \"'\", 'm', '▁all', '▁', 'ch', 'o', 'k', 'ed', '▁up', '\\n', 'B', 'ut', '▁I', '▁can', \"'\", 't', '▁find', '▁the', '▁w', 'or', 'd', 's', '\\n', 'E', 'ver', 'y', '▁time', '▁we', '▁say', '▁good', 'b', 'y', 'e', '\\n', 'B', 'a', 'b', 'y', ',', '▁it', '▁hu', 'r', 't', 's', '\\n', 'W', 'h', 'en', '▁the', '▁s', 'un', '▁go', 'es', '▁down', '\\n', 'A', 'n', 'd', '▁the', '▁b', 'and', '▁w', 'on', \"'\", 't', '▁play', '\\n', 'I', \"'\", 'll', '▁always', '▁re', 'm', 'e', 'm', 'b', 'er', '▁us', '▁this', '▁way', '\\n', 'L', 'o', 'ver', 's', '▁in', '▁the', '▁night', '\\n', 'P', 'o', 'e', 't', 's', '▁try', 'ing', '▁to', '▁write', '\\n', 'W', 'e', '▁don', \"'\", 't', '▁know', '▁how', '▁to', '▁', 'r', 'h', 'y', 'm', 'e', '\\n', 'B', 'ut', ',', '▁da', 'm', 'n', ',', '▁we', '▁try', '\\n', 'B', 'ut', '▁all', '▁I', '▁re', 'ally', '▁know', '\\n', 'You', \"'\", 're', '▁where', '▁I', '▁w', 'an', 'n', 'a', '▁go', '\\n', 'The', '▁part', '▁of', '▁me', '▁that', \"'\", 's', '▁you', '▁will', '▁never', '▁di', 'e', '\\n', 'S', 'o', '▁when', '▁I', \"'\", 'm', '▁all', '▁', 'ch', 'o', 'k', 'ed', '▁up', '\\n', 'B', 'ut', '▁I', '▁can', \"'\", 't', '▁find', '▁the', '▁w', 'or', 'd', 's', '\\n', 'E', 'ver', 'y', '▁time', '▁we', '▁say', '▁good', 'b', 'y', 'e', '\\n', 'B', 'a', 'b', 'y', ',', '▁it', '▁hu', 'r', 't', 's', '\\n', 'W', 'h', 'en', '▁the', '▁s', 'un', '▁go', 'es', '▁down', '\\n', 'A', 'n', 'd', '▁the', '▁b', 'and', '▁w', 'on', \"'\", 't', '▁play', '\\n', 'I', \"'\", 'll', '▁always', '▁re', 'm', 'e', 'm', 'b', 'er', '▁us', '▁this', '▁way', '\\n', 'O', 'h', ',', '.', '.', '.']\n"
     ]
    }
   ],
   "source": [
    "a=sp.EncodeAsPieces(contents)\n",
    "print(a)"
   ]
  },
  {
   "cell_type": "code",
   "execution_count": 8,
   "metadata": {},
   "outputs": [
    {
     "name": "stdout",
     "output_type": "stream",
     "text": [
      "[4, 282, 104, 83, 997, 112, 19, 51, 46, 34, 80, 111, 24, 18, 20, 252, 621, 0, 441, 368, 61, 33, 13, 5, 80, 19, 66, 16, 5, 9, 102, 84, 24, 19, 903, 59, 74, 25, 56, 0, 100, 15, 32, 8, 378, 83, 12, 20, 45, 71, 229, 110, 408, 73, 270, 54, 24, 25, 19, 121, 31, 17, 0, 441, 436, 7, 4, 531, 20, 33, 36, 9, 155, 24, 32, 15, 511, 0, 262, 21, 137, 9, 32, 26, 90, 4, 92, 21, 46, 12, 119, 0, 540, 166, 9, 162, 32, 15, 511, 7, 102, 54, 17, 8, 0, 120, 299, 34, 171, 115, 211, 301, 66, 34, 16, 0, 540, 19, 66, 34, 5, 27, 550, 30, 15, 8, 0, 321, 60, 98, 7, 51, 160, 121, 117, 245, 0, 194, 24, 17, 7, 80, 253, 102, 112, 32, 15, 824, 0, 100, 32, 88, 695, 70, 26, 16, 26, 66, 40, 197, 65, 184, 0, 277, 21, 299, 8, 20, 7, 222, 0, 422, 21, 16, 15, 8, 728, 18, 10, 858, 0, 321, 16, 274, 32, 15, 208, 311, 10, 4, 30, 60, 34, 26, 16, 0, 540, 166, 5, 430, 26, 24, 5, 115, 728, 0, 540, 166, 90, 9, 70, 276, 208, 0, 441, 32, 56, 346, 9, 102, 84, 24, 19, 121, 0, 369, 317, 14, 33, 36, 32, 8, 49, 172, 398, 433, 16, 0, 262, 21, 137, 9, 32, 26, 90, 4, 92, 21, 46, 12, 119, 0, 540, 166, 9, 162, 32, 15, 511, 7, 102, 54, 17, 8, 0, 120, 299, 34, 171, 115, 211, 301, 66, 34, 16, 0, 540, 19, 66, 34, 5, 27, 550, 30, 15, 8, 0, 321, 60, 98, 7, 51, 160, 121, 117, 245, 0, 194, 24, 17, 7, 80, 253, 102, 112, 32, 15, 824, 0, 100, 32, 88, 695, 70, 26, 16, 26, 66, 40, 197, 65, 184, 0, 258, 60, 5, 6, 6, 6]\n"
     ]
    }
   ],
   "source": [
    "b=sp.EncodeAsIds(contents)\n",
    "print(b)"
   ]
  },
  {
   "cell_type": "code",
   "execution_count": 9,
   "metadata": {},
   "outputs": [
    {
     "data": {
      "text/plain": [
       "\"That Arizona sky burning in your eyes\\nYou look at me and, babe, I wanna catch on fire\\nIt's buried in my soul like California gold\\nYou found the light in me that I couldn't find\\nSo when I'm all choked up\\nBut I can't find the words\\nEvery time we say goodbye\\nBaby, it hurts\\nWhen the sun goes down\\nAnd the band won't play\\nI'll always remember us this way\\nLovers in the night\\nPoets trying to write\\nWe don't know how to rhyme\\nBut, damn, we try\\nBut all I really know\\nYou're where I wanna go\\nThe part of me that's you will never die\\nSo when I'm all choked up\\nBut I can't find the words\\nEvery time we say goodbye\\nBaby, it hurts\\nWhen the sun goes down\\nAnd the band won't play\\nI'll always remember us this way\\nOh,...\""
      ]
     },
     "execution_count": 9,
     "metadata": {},
     "output_type": "execute_result"
    }
   ],
   "source": [
    "sp.DecodePieces(a)"
   ]
  },
  {
   "cell_type": "code",
   "execution_count": 10,
   "metadata": {},
   "outputs": [
    {
     "data": {
      "text/plain": [
       "\"That Arizona sky burning in your eyes ⁇ You look at me and, babe, I wanna catch on fire ⁇ It's buried in my soul like California gold ⁇ You found the light in me that I couldn't find ⁇ So when I'm all choked up ⁇ But I can't find the words ⁇ Every time we say goodbye ⁇ Baby, it hurts ⁇ When the sun goes down ⁇ And the band won't play ⁇ I'll always remember us this way ⁇ Lovers in the night ⁇ Poets trying to write ⁇ We don't know how to rhyme ⁇ But, damn, we try ⁇ But all I really know ⁇ You're where I wanna go ⁇ The part of me that's you will never die ⁇ So when I'm all choked up ⁇ But I can't find the words ⁇ Every time we say goodbye ⁇ Baby, it hurts ⁇ When the sun goes down ⁇ And the band won't play ⁇ I'll always remember us this way ⁇ Oh,...\""
      ]
     },
     "execution_count": 10,
     "metadata": {},
     "output_type": "execute_result"
    }
   ],
   "source": [
    "sp.DecodeIds(b)\n",
    "#don't know why has double question marks # ?? is the code for UNK"
   ]
  },
  {
   "cell_type": "code",
   "execution_count": 11,
   "metadata": {},
   "outputs": [
    {
     "data": {
      "text/plain": [
       "1000"
      ]
     },
     "execution_count": 11,
     "metadata": {},
     "output_type": "execute_result"
    }
   ],
   "source": [
    "sp.GetPieceSize()"
   ]
  },
  {
   "cell_type": "code",
   "execution_count": 12,
   "metadata": {},
   "outputs": [
    {
     "data": {
      "text/plain": [
       "'.'"
      ]
     },
     "execution_count": 12,
     "metadata": {},
     "output_type": "execute_result"
    }
   ],
   "source": [
    "sp.IdToPiece(6)"
   ]
  },
  {
   "cell_type": "code",
   "execution_count": 13,
   "metadata": {},
   "outputs": [
    {
     "data": {
      "text/plain": [
       "282"
      ]
     },
     "execution_count": 13,
     "metadata": {},
     "output_type": "execute_result"
    }
   ],
   "source": [
    " sp.PieceToId('That')"
   ]
  },
  {
   "cell_type": "code",
   "execution_count": 14,
   "metadata": {},
   "outputs": [
    {
     "data": {
      "text/plain": [
       "1000"
      ]
     },
     "execution_count": 14,
     "metadata": {},
     "output_type": "execute_result"
    }
   ],
   "source": [
    "len(sp)"
   ]
  },
  {
   "cell_type": "code",
   "execution_count": 15,
   "metadata": {},
   "outputs": [
    {
     "data": {
      "text/plain": [
       "2"
      ]
     },
     "execution_count": 15,
     "metadata": {},
     "output_type": "execute_result"
    }
   ],
   "source": [
    "sp['</s>']"
   ]
  },
  {
   "cell_type": "code",
   "execution_count": 16,
   "metadata": {},
   "outputs": [
    {
     "name": "stdout",
     "output_type": "stream",
     "text": [
      "*** BPE ***\n",
      "['▁', 'T', 'h', 'at', '▁A', 'r', 'i', 'z', 'on', 'a', '▁s', 'k', 'y', '▁b', 'ur', 'n', 'in', 'g', '▁in', '▁', 'y', 'ou', 'r', '▁', 'e', 'y', 'es', '▁You', '▁l', 'o', 'ok', '▁', 'at', '▁me', '▁', 'and', ',', '▁b', 'a', 'b', 'e', ',', '▁I', '▁w', 'an', 'n', 'a', '▁c', 'at', 'c', 'h', '▁', 'on', '▁f', 'i', 're', '▁I', 't', \"'\", 's', '▁b', 'ur', 'i', 'ed', '▁in', '▁', 'm', 'y', '▁s', 'ou', 'l', '▁l', 'i', 'k', 'e', '▁', 'C', 'al', 'i', 'f', 'or', 'n', 'i', 'a', '▁go', 'l', 'd', '▁You', '▁f', 'ou', 'nd', '▁the', '▁l', 'i', 'g', 'h', 't', '▁in', '▁me', '▁th', 'at', '▁I', '▁c', 'ou', 'l', 'd', 'n', \"'\", 't', '▁find', '▁', 'So', '▁w', 'hen', '▁I', \"'\", 'm', '▁all', '▁c', 'h', 'ok', 'ed', '▁u', 'p', '▁But', '▁I', '▁c', 'an', \"'\", 't', '▁find', '▁the', '▁w', 'or', 'ds', '▁', 'E', 'ver', 'y', '▁t', 'i', 'me', '▁we', '▁s', 'ay', '▁go', 'o', 'd', 'by', 'e', '▁B', 'a', 'by', ',', '▁', 'it', '▁h', 'ur', 'ts', '▁W', 'hen', '▁the', '▁s', 'u', 'n', '▁go', 'es', '▁d', 'ow', 'n', '▁A', 'nd', '▁the', '▁b', 'and', '▁w', 'on', \"'\", 't', '▁p', 'l', 'ay', '▁I', \"'\", 'll', '▁al', 'w', 'ay', 's', '▁re', 'me', 'm', 'b', 'er', '▁u', 's', '▁th', 'i', 's', '▁w', 'ay', '▁', 'L', 'o', 'ver', 's', '▁in', '▁the', '▁', 'n', 'i', 'g', 'h', 't', '▁', 'P', 'o', 'e', 'ts', '▁t', 'r', 'y', 'in', 'g', '▁t', 'o', '▁w', 'r', 'it', 'e', '▁W', 'e', '▁d', 'on', \"'\", 't', '▁', 'k', 'n', 'ow', '▁h', 'ow', '▁t', 'o', '▁', 'r', 'h', 'y', 'me', '▁But', ',', '▁d', 'a', 'm', 'n', ',', '▁we', '▁t', 'r', 'y', '▁But', '▁all', '▁I', '▁re', 'al', 'l', 'y', '▁', 'k', 'n', 'ow', '▁You', \"'\", 're', '▁w', 'he', 're', '▁I', '▁w', 'an', 'n', 'a', '▁go', '▁', 'T', 'he', '▁p', 'a', 'r', 't', '▁', 'o', 'f', '▁me', '▁th', 'at', \"'\", 's', '▁', 'y', 'ou', '▁w', 'i', 'll', '▁', 'n', 'e', 'ver', '▁d', 'i', 'e', '▁', 'So', '▁w', 'hen', '▁I', \"'\", 'm', '▁all', '▁c', 'h', 'ok', 'ed', '▁u', 'p', '▁But', '▁I', '▁c', 'an', \"'\", 't', '▁find', '▁the', '▁w', 'or', 'ds', '▁', 'E', 'ver', 'y', '▁t', 'i', 'me', '▁we', '▁s', 'ay', '▁go', 'o', 'd', 'by', 'e', '▁B', 'a', 'by', ',', '▁', 'it', '▁h', 'ur', 'ts', '▁W', 'hen', '▁the', '▁s', 'u', 'n', '▁go', 'es', '▁d', 'ow', 'n', '▁A', 'nd', '▁the', '▁b', 'and', '▁w', 'on', \"'\", 't', '▁p', 'l', 'ay', '▁I', \"'\", 'll', '▁al', 'w', 'ay', 's', '▁re', 'me', 'm', 'b', 'er', '▁u', 's', '▁th', 'i', 's', '▁w', 'ay', '▁', 'O', 'h', ',', '.', '.', '.']\n",
      "[]\n"
     ]
    }
   ],
   "source": [
    "#Test BPE\n",
    "#spm_encode --model=<model_file> --output_format=piece < input > output\n",
    "spm.SentencePieceTrainer.train('--input=../data/always.txt --model_prefix=m_bpe --vocab_size=100 --model_type=bpe')\n",
    "sp_bpe = spm.SentencePieceProcessor()\n",
    "sp_bpe.load('m_bpe.model')\n",
    "\n",
    "print('*** BPE ***')\n",
    "aBp=(sp_bpe.encode_as_pieces(contents))\n",
    "print(aBp)\n",
    "print(sp_bpe.nbest_encode_as_pieces('That Arizona sky burning in your eyes', 5))  # returns an empty list."
   ]
  },
  {
   "cell_type": "code",
   "execution_count": 17,
   "metadata": {},
   "outputs": [
    {
     "name": "stdout",
     "output_type": "stream",
     "text": [
      "*** BPE ***\n",
      "[61, 94, 67, 21, 45, 69, 68, 99, 22, 66, 19, 84, 74, 24, 29, 64, 7, 80, 34, 61, 74, 10, 69, 61, 62, 74, 38, 56, 49, 65, 42, 61, 21, 53, 61, 51, 81, 24, 66, 78, 62, 81, 6, 4, 13, 64, 66, 18, 21, 82, 67, 61, 22, 26, 68, 16, 6, 63, 77, 72, 24, 29, 68, 37, 34, 61, 76, 74, 19, 10, 70, 49, 68, 84, 62, 61, 95, 12, 68, 83, 43, 64, 68, 66, 20, 70, 71, 56, 26, 10, 41, 11, 49, 68, 80, 67, 63, 34, 53, 35, 21, 6, 18, 10, 70, 71, 64, 77, 63, 58, 61, 59, 4, 32, 6, 77, 76, 57, 18, 67, 42, 37, 31, 86, 36, 6, 18, 13, 77, 63, 58, 11, 4, 43, 60, 61, 92, 33, 74, 3, 68, 9, 55, 19, 8, 20, 65, 71, 28, 62, 17, 66, 28, 81, 61, 39, 48, 29, 44, 46, 32, 11, 19, 75, 64, 20, 38, 25, 23, 64, 45, 41, 11, 24, 51, 4, 22, 77, 63, 50, 70, 8, 6, 77, 40, 27, 73, 8, 72, 54, 9, 76, 78, 14, 31, 72, 35, 68, 72, 4, 8, 61, 96, 65, 33, 72, 34, 11, 61, 64, 68, 80, 67, 63, 61, 98, 65, 62, 44, 3, 69, 74, 7, 80, 3, 65, 4, 69, 39, 62, 46, 62, 25, 22, 77, 63, 61, 84, 64, 23, 48, 23, 3, 65, 61, 69, 67, 74, 9, 36, 81, 25, 66, 76, 64, 81, 55, 3, 69, 74, 36, 57, 6, 54, 12, 70, 74, 61, 84, 64, 23, 56, 77, 16, 4, 5, 16, 6, 4, 13, 64, 66, 20, 61, 94, 5, 50, 66, 69, 63, 61, 65, 83, 53, 35, 21, 77, 72, 61, 74, 10, 4, 68, 40, 61, 64, 62, 33, 25, 68, 62, 61, 59, 4, 32, 6, 77, 76, 57, 18, 67, 42, 37, 31, 86, 36, 6, 18, 13, 77, 63, 58, 11, 4, 43, 60, 61, 92, 33, 74, 3, 68, 9, 55, 19, 8, 20, 65, 71, 28, 62, 17, 66, 28, 81, 61, 39, 48, 29, 44, 46, 32, 11, 19, 75, 64, 20, 38, 25, 23, 64, 45, 41, 11, 24, 51, 4, 22, 77, 63, 50, 70, 8, 6, 77, 40, 27, 73, 8, 72, 54, 9, 76, 78, 14, 31, 72, 35, 68, 72, 4, 8, 61, 97, 67, 81, 88, 88, 88]\n"
     ]
    }
   ],
   "source": [
    "print('*** BPE ***')\n",
    "bBp=(sp_bpe.encode_as_ids(contents))\n",
    "print(bBp)\n",
    "#print(sp_bpe.encode_as_ids(b))"
   ]
  },
  {
   "cell_type": "code",
   "execution_count": 18,
   "metadata": {},
   "outputs": [
    {
     "name": "stdout",
     "output_type": "stream",
     "text": [
      "<unk> False\n",
      "<s> True\n",
      "</s> True\n",
      "▁t False\n"
     ]
    }
   ],
   "source": [
    "for id in range(4):\n",
    "    print(sp_bpe.id_to_piece(id), sp.is_control(id))"
   ]
  },
  {
   "cell_type": "code",
   "execution_count": 19,
   "metadata": {},
   "outputs": [
    {
     "data": {
      "text/plain": [
       "\"That Arizona sky burning in your eyes You look at me and, babe, I wanna catch on fire It's buried in my soul like California gold You found the light in me that I couldn't find So when I'm all choked up But I can't find the words Every time we say goodbye Baby, it hurts When the sun goes down And the band won't play I'll always remember us this way Lovers in the night Poets trying to write We don't know how to rhyme But, damn, we try But all I really know You're where I wanna go The part of me that's you will never die So when I'm all choked up But I can't find the words Every time we say goodbye Baby, it hurts When the sun goes down And the band won't play I'll always remember us this way Oh,...\""
      ]
     },
     "execution_count": 19,
     "metadata": {},
     "output_type": "execute_result"
    }
   ],
   "source": [
    "sp_bpe.DecodePieces(aBp)"
   ]
  },
  {
   "cell_type": "code",
   "execution_count": 20,
   "metadata": {},
   "outputs": [
    {
     "data": {
      "text/plain": [
       "\"That Arizona sky burning in your eyes You look at me and, babe, I wanna catch on fire It's buried in my soul like California gold You found the light in me that I couldn't find So when I'm all choked up But I can't find the words Every time we say goodbye Baby, it hurts When the sun goes down And the band won't play I'll always remember us this way Lovers in the night Poets trying to write We don't know how to rhyme But, damn, we try But all I really know You're where I wanna go The part of me that's you will never die So when I'm all choked up But I can't find the words Every time we say goodbye Baby, it hurts When the sun goes down And the band won't play I'll always remember us this way Oh,...\""
      ]
     },
     "execution_count": 20,
     "metadata": {},
     "output_type": "execute_result"
    }
   ],
   "source": [
    "sp_bpe.DecodeIds(bBp)"
   ]
  },
  {
   "cell_type": "code",
   "execution_count": 21,
   "metadata": {},
   "outputs": [],
   "source": [
    "text=\"Pohjoismaissa on pitkään syntynyt enemmän lapsia kuin muissa rikkaissa maissa, mutta se saattaa nyt muuttua – eikä kukaan oikein tiedä miksi\""
   ]
  },
  {
   "cell_type": "code",
   "execution_count": 22,
   "metadata": {},
   "outputs": [
    {
     "name": "stdout",
     "output_type": "stream",
     "text": [
      "['▁P', 'o', 'h', 'j', 'o', 'is', 'm', 'a', 'is', 's', 'a', '▁on', '▁p', 'it', 'k', 'ää', 'n', '▁s', 'y', 'n', 'ty', 'n', 'y', 't', '▁e', 'ne', 'm', 'm', 'ä', 'n', '▁', 'la', 'p', 's', 'i', 'a', '▁', 'ku', 'in', '▁', 'm', 'u', 'is', 's', 'a', '▁', 'ri', 'k', 'k', 'a', 'is', 's', 'a', '▁ma', 'is', 's', 'a', ',', '▁', 'm', 'ut', 'ta', '▁', 'se', '▁s', 'a', 'at', 'ta', 'a', '▁', 'n', 'y', 't', '▁', 'm', 'u', 'ut', 't', 'u', 'a', '▁', '–', '▁e', 'i', 'k', 'ä', '▁', 'ku', 'k', 'a', 'an', '▁', 'o', 'i', 'ke', 'in', '▁ti', 'ed', 'ä', '▁mi', 'k', 's', 'i']\n"
     ]
    }
   ],
   "source": [
    "finNish=sp.EncodeAsPieces(text)\n",
    "print(finNish)"
   ]
  },
  {
   "cell_type": "code",
   "execution_count": 23,
   "metadata": {},
   "outputs": [
    {
     "data": {
      "text/plain": [
       "'Pohjoismaissa on pitkään syntynyt enemmän lapsia kuin muissa rikkaissa maissa, mutta se saattaa nyt muuttua – eikä kukaan oikein tiedä miksi'"
      ]
     },
     "execution_count": 23,
     "metadata": {},
     "output_type": "execute_result"
    }
   ],
   "source": [
    "sp.DecodePieces(finNish)"
   ]
  },
  {
   "cell_type": "code",
   "execution_count": 24,
   "metadata": {},
   "outputs": [],
   "source": [
    "text2=\"Det var under sommaren som Zlatan Ibrahimovic sågade den amerikanska ligan, MLS. Han hävdade att nivån där inte är samma som den i Europa. När jag spelade där lirade jag med killar som var på samma nivå som jag var, eller väldigt nära. Det gör det enklare att spela tillsammans. Här är jag som en Ferrari bland Fiat. Det kan hända att en Ferrari kan bli en Fiat eller att en Fiat kan bli en Ferrari. Jag hade samma problem i landslaget, även om det inte var lika stort där, sa Ibrahimovic i en intervju med ESPN.\""
   ]
  },
  {
   "cell_type": "code",
   "execution_count": 25,
   "metadata": {},
   "outputs": [
    {
     "name": "stdout",
     "output_type": "stream",
     "text": [
      "['▁D', 'e', 't', '▁va', 'r', '▁under', '▁so', 'm', 'm', 'ar', 'en', '▁so', 'm', '▁', 'Z', 'l', 'at', 'an', '▁I', 'b', 'r', 'a', 'h', 'im', 'o', 'v', 'ic', '▁s', 'å', 'g', 'ad', 'e', '▁de', 'n', '▁am', 'er', 'i', 'k', 'an', 's', 'k', 'a', '▁l', 'i', 'g', 'an', ',', '▁M', 'L', 'S', '.', '▁', 'H', 'an', '▁', 'h', 'ä', 'v', 'd', 'ad', 'e', '▁at', 't', '▁', 'n', 'i', 'v', 'å', 'n', '▁d', 'ä', 'r', '▁in', 'te', '▁', 'ä', 'r', '▁s', 'a', 'm', 'm', 'a', '▁so', 'm', '▁de', 'n', '▁', 'i', '▁', 'E', 'ur', 'op', 'a', '.', '▁', 'N', 'ä', 'r', '▁', 'j', 'a', 'g', '▁sp', 'el', 'ad', 'e', '▁d', 'ä', 'r', '▁l', 'ir', 'ad', 'e', '▁', 'j', 'a', 'g', '▁me', 'd', '▁', 'k', 'i', 'll', 'ar', '▁so', 'm', '▁va', 'r', '▁p', 'å', '▁s', 'a', 'm', 'm', 'a', '▁', 'n', 'i', 'v', 'å', '▁so', 'm', '▁', 'j', 'a', 'g', '▁va', 'r', ',', '▁e', 'll', 'er', '▁', 'v', 'ä', 'l', 'd', 'i', 'g', 't', '▁', 'n', 'ä', 'r', 'a', '.', '▁D', 'e', 't', '▁', 'g', 'ö', 'r', '▁de', 't', '▁', 'en', 'k', 'la', 're', '▁at', 't', '▁sp', 'e', 'la', '▁ti', 'll', 's', 'a', 'm', 'man', 's', '.', '▁', 'H', 'ä', 'r', '▁', 'ä', 'r', '▁', 'j', 'a', 'g', '▁so', 'm', '▁', 'en', '▁F', 'er', 'r', 'ar', 'i', '▁b', 'l', 'and', '▁F', 'i', 'at', '.', '▁D', 'e', 't', '▁', 'k', 'an', '▁', 'h', 'ä', 'n', 'd', 'a', '▁at', 't', '▁', 'en', '▁F', 'er', 'r', 'ar', 'i', '▁', 'k', 'an', '▁b', 'l', 'i', '▁', 'en', '▁F', 'i', 'at', '▁e', 'll', 'er', '▁at', 't', '▁', 'en', '▁F', 'i', 'at', '▁', 'k', 'an', '▁b', 'l', 'i', '▁', 'en', '▁F', 'er', 'r', 'ar', 'i', '.', '▁', 'J', 'a', 'g', '▁had', 'e', '▁s', 'a', 'm', 'm', 'a', '▁pro', 'ble', 'm', '▁', 'i', '▁l', 'and', 's', 'l', 'age', 't', ',', '▁', 'ä', 've', 'n', '▁', 'o', 'm', '▁de', 't', '▁in', 'te', '▁va', 'r', '▁l', 'i', 'k', 'a', '▁', 'st', 'or', 't', '▁d', 'ä', 'r', ',', '▁s', 'a', '▁I', 'b', 'r', 'a', 'h', 'im', 'o', 'v', 'ic', '▁', 'i', '▁', 'en', '▁in', 'ter', 'v', 'j', 'u', '▁me', 'd', '▁', 'E', 'S', 'P', 'N', '.']\n"
     ]
    }
   ],
   "source": [
    "sweDish=sp.EncodeAsPieces(text2)\n",
    "print(sweDish)"
   ]
  },
  {
   "cell_type": "code",
   "execution_count": 26,
   "metadata": {},
   "outputs": [],
   "source": [
    "#print(sp.nbest_encode_as_pieces(text2,2))"
   ]
  },
  {
   "cell_type": "code",
   "execution_count": 27,
   "metadata": {},
   "outputs": [
    {
     "data": {
      "text/plain": [
       "'Det var under sommaren som Zlatan Ibrahimovic sågade den amerikanska ligan, MLS. Han hävdade att nivån där inte är samma som den i Europa. När jag spelade där lirade jag med killar som var på samma nivå som jag var, eller väldigt nära. Det gör det enklare att spela tillsammans. Här är jag som en Ferrari bland Fiat. Det kan hända att en Ferrari kan bli en Fiat eller att en Fiat kan bli en Ferrari. Jag hade samma problem i landslaget, även om det inte var lika stort där, sa Ibrahimovic i en intervju med ESPN.'"
      ]
     },
     "execution_count": 27,
     "metadata": {},
     "output_type": "execute_result"
    }
   ],
   "source": [
    "sp.DecodePieces(sweDish)"
   ]
  },
  {
   "cell_type": "code",
   "execution_count": 28,
   "metadata": {},
   "outputs": [],
   "source": [
    "#text3=\"这个刚刚生成的冰山被命名为D28号，方圆1636平方公里，面积相当于1.5个香港。如此庞大的冰山生成后，未来可能对航运带来危险，因此它的移动方向以及变化情况将随时受到监控跟踪。\""
   ]
  },
  {
   "cell_type": "code",
   "execution_count": 29,
   "metadata": {},
   "outputs": [],
   "source": [
    "#chinese=sp.EncodeAsPieces(text3)\n",
    "#print(chinese)"
   ]
  },
  {
   "cell_type": "code",
   "execution_count": 30,
   "metadata": {},
   "outputs": [],
   "source": [
    "text4=\"France 5 est la chaîne de la connaissance et du savoir à destination de tous les publics. Explorer, étonner, éclairer. Retrouvez France 5 en replay et en direct sur france.tv. Magazines, jeunesse, débats de société, et les ... documentaires de France 5 contribue à la compréhension du monde qui nous entoure et de son environnement. La chaîne France 5 fait partie des chaînes généralistes du service public français. \""
   ]
  },
  {
   "cell_type": "code",
   "execution_count": 31,
   "metadata": {},
   "outputs": [
    {
     "name": "stdout",
     "output_type": "stream",
     "text": [
      "['▁F', 'r', 'ance', '▁', '5', '▁', 'est', '▁', 'la', '▁cha', 'î', 'ne', '▁de', '▁', 'la', '▁con', 'n', 'a', 'is', 's', 'ance', '▁e', 't', '▁d', 'u', '▁s', 'a', 'v', 'o', 'ir', '▁', 'à', '▁de', 'st', 'in', 'ation', '▁de', '▁to', 'us', '▁', 'le', 's', '▁public', 's', '.', '▁', 'E', 'x', 'p', 'l', 'or', 'er', ',', '▁', 'é', 't', 'on', 'n', 'er', ',', '▁', 'é', 'c', 'la', 'ir', 'er', '.', '▁', 'R', 'e', 't', 'ro', 'u', 've', 'z', '▁F', 'r', 'ance', '▁', '5', '▁', 'en', '▁re', 'p', 'la', 'y', '▁e', 't', '▁', 'en', '▁direct', '▁s', 'ur', '▁f', 'r', 'ance', '.', 't', 'v', '.', '▁M', 'a', 'g', 'a', 'z', 'in', 'es', ',', '▁', 'j', 'e', 'u', 'ness', 'e', ',', '▁d', 'é', 'b', 'at', 's', '▁de', '▁so', 'c', 'i', 'é', 't', 'é', ',', '▁e', 't', '▁', 'le', 's', '▁', '.', '.', '.', '▁do', 'c', 'u', 'ment', 'a', 'ir', 'es', '▁de', '▁F', 'r', 'ance', '▁', '5', '▁con', 't', 'ri', 'b', 'u', 'e', '▁', 'à', '▁', 'la', '▁comp', 'r', 'é', 'h', 'en', 's', 'ion', '▁d', 'u', '▁mo', 'n', 'd', 'e', '▁', 'qu', 'i', '▁no', 'us', '▁', 'ent', 'o', 'ur', 'e', '▁e', 't', '▁de', '▁so', 'n', '▁', 'en', 'v', 'ir', 'on', 'ne', 'ment', '.', '▁', 'L', 'a', '▁cha', 'î', 'ne', '▁F', 'r', 'ance', '▁', '5', '▁f', 'a', 'it', '▁part', 'i', 'e', '▁de', 's', '▁cha', 'î', 'ne', 's', '▁', 'g', 'é', 'n', 'é', 'r', 'al', 'is', 'te', 's', '▁d', 'u', '▁s', 'er', 'v', 'ic', 'e', '▁public', '▁f', 'r', 'an', 'ç', 'a', 'is', '.']\n"
     ]
    }
   ],
   "source": [
    "french=sp.EncodeAsPieces(text4)\n",
    "print(french)"
   ]
  },
  {
   "cell_type": "code",
   "execution_count": 32,
   "metadata": {},
   "outputs": [
    {
     "data": {
      "text/plain": [
       "'France 5 est la chaîne de la connaissance et du savoir à destination de tous les publics. Explorer, étonner, éclairer. Retrouvez France 5 en replay et en direct sur france.tv. Magazines, jeunesse, débats de société, et les ... documentaires de France 5 contribue à la compréhension du monde qui nous entoure et de son environnement. La chaîne France 5 fait partie des chaînes généralistes du service public français.'"
      ]
     },
     "execution_count": 32,
     "metadata": {},
     "output_type": "execute_result"
    }
   ],
   "source": [
    "sp.DecodePieces(french)"
   ]
  },
  {
   "cell_type": "code",
   "execution_count": 34,
   "metadata": {},
   "outputs": [],
   "source": [
    "#print(sp.nbest_encode_as_pieces(text4,2)) # the second parameter 2 means the top 2 best "
   ]
  },
  {
   "cell_type": "code",
   "execution_count": null,
   "metadata": {},
   "outputs": [],
   "source": []
  }
 ],
 "metadata": {
  "kernelspec": {
   "display_name": "Python 3",
   "language": "python",
   "name": "python3"
  },
  "language_info": {
   "codemirror_mode": {
    "name": "ipython",
    "version": 3
   },
   "file_extension": ".py",
   "mimetype": "text/x-python",
   "name": "python",
   "nbconvert_exporter": "python",
   "pygments_lexer": "ipython3",
   "version": "3.7.4"
  },
  "latex_envs": {
   "LaTeX_envs_menu_present": true,
   "autoclose": false,
   "autocomplete": true,
   "bibliofile": "biblio.bib",
   "cite_by": "apalike",
   "current_citInitial": 1,
   "eqLabelWithNumbers": true,
   "eqNumInitial": 1,
   "hotkeys": {
    "equation": "Ctrl-E",
    "itemize": "Ctrl-I"
   },
   "labels_anchors": false,
   "latex_user_defs": false,
   "report_style_numbering": false,
   "user_envs_cfg": false
  },
  "toc": {
   "base_numbering": 1,
   "nav_menu": {},
   "number_sections": true,
   "sideBar": true,
   "skip_h1_title": false,
   "title_cell": "Table of Contents",
   "title_sidebar": "Contents",
   "toc_cell": false,
   "toc_position": {},
   "toc_section_display": true,
   "toc_window_display": false
  }
 },
 "nbformat": 4,
 "nbformat_minor": 2
}
