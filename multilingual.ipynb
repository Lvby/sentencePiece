{
 "cells": [
  {
   "cell_type": "code",
   "execution_count": 1,
   "metadata": {},
   "outputs": [],
   "source": [
    "import sentencepiece as spm"
   ]
  },
  {
   "cell_type": "code",
   "execution_count": 2,
   "metadata": {},
   "outputs": [],
   "source": [
    "sp = spm.SentencePieceProcessor()"
   ]
  },
  {
   "cell_type": "code",
   "execution_count": 3,
   "metadata": {},
   "outputs": [],
   "source": [
    "#Basic end-to-end example"
   ]
  },
  {
   "cell_type": "code",
   "execution_count": 4,
   "metadata": {},
   "outputs": [
    {
     "data": {
      "text/plain": [
       "True"
      ]
     },
     "execution_count": 4,
     "metadata": {},
     "output_type": "execute_result"
    }
   ],
   "source": [
    "#sp_bpe.load('m_bpe.model')\n",
    "sp.Load(\"test/test_model.model\")"
   ]
  },
  {
   "cell_type": "code",
   "execution_count": 5,
   "metadata": {},
   "outputs": [],
   "source": [
    "import os\n",
    "destPath=('../data/always.txt')\n",
    "f=open(destPath, \"r\",  encoding='utf-8')"
   ]
  },
  {
   "cell_type": "code",
   "execution_count": 6,
   "metadata": {},
   "outputs": [],
   "source": [
    "contents =f.read()"
   ]
  },
  {
   "cell_type": "code",
   "execution_count": 7,
   "metadata": {},
   "outputs": [
    {
     "name": "stdout",
     "output_type": "stream",
     "text": [
      "['▁', 'J', 'ing', 'le', '▁be', 'll', 's', ',', '▁', 'j', 'ing', 'le', '▁be', 'll', 's', '\\n', 'J', 'ing', 'le', '▁all', '▁the', '▁way', ',', '\\n', 'O', 'h', '▁what', '▁f', 'un', '▁it', '▁is', '▁to', '▁', 'ri', 'd', 'e', '\\n', 'I', 'n', '▁a', '▁one', '-', 'h', 'or', 'se', '▁open', '▁s', 'le', 'i', 'g', 'h', ',', '\\n', 'J', 'ing', 'le', '▁be', 'll', 's', ',', '▁', 'j', 'ing', 'le', '▁be', 'll', 's', '\\n', 'J', 'ing', 'le', '▁all', '▁the', '▁way', ',', '\\n', 'O', 'h', '▁what', '▁f', 'un', '▁it', '▁is', '▁to', '▁', 'ri', 'd', 'e', '\\n', 'I', 'n', '▁a', '▁one', '-', 'h', 'or', 'se', '▁open', '▁s', 'le', 'i', 'g', 'h', '.', '\\n', 'D', 'ash', 'ing', '▁through', '▁the', '▁s', 'n', 'ow', '\\n', 'I', 'n', '▁a', '▁one', '-', 'h', 'or', 'se', '▁open', '▁s', 'le', 'i', 'g', 'h', '\\n', 'T', 'h', 'r', 'ough', '▁the', '▁f', 'i', 'el', 'd', 's', '▁we', '▁go', '\\n', 'L', 'a', 'u', 'g', 'h', 'ing', '▁all', '▁the', '▁way', '.', '\\n', 'B', 'e', 'll', 's', '▁on', '▁bo', 'b', '-', 'ta', 'il', '▁', 'r', 'ing', '\\n', 'M', 'a', 'k', 'ing', '▁spirit', 's', '▁b', 'ri', 'g', 'h', 't', '\\n', 'What', '▁f', 'un', '▁it', '▁is', '▁to', '▁', 'ri', 'd', 'e', '▁and', '▁s', 'ing', '\\n', 'A', '▁s', 'le', 'i', 'g', 'h', 'ing', '▁so', 'ng', '▁to', 'night', '.', '\\n', 'J', 'ing', 'le', '▁be', 'll', 's', ',', '▁', 'j', 'ing', '-', 'j', 'ing', 'le', '▁be', 'll', 's', '\\n', 'J', 'ing', 'le', '▁all', '▁the', '▁way', ',', '\\n', 'O', 'h', '▁what', '▁f', 'un', '▁it', '▁is', '▁to', '▁', 'ri', 'd', 'e', '\\n', 'I', 'n', '▁a', '▁one', '-', 'h', 'or', 'se', '▁open', '▁s', 'le', 'i', 'g', 'h', ',', '▁b', 'r', 'r', 'u', 'up', '\\n', 'J', 'ing', 'le', '▁be', 'll', 's', ',', '▁', 'j', 'ing', 'le', '▁be', 'll', 's', '\\n', 'J', 'ing', 'le', '▁all', '▁the', '▁way', ',', '\\n', 'O', 'h', '▁what', '▁f', 'un', '▁it', '▁is', '▁to', '▁', 'ri', 'd', 'e', '\\n', 'I', 'n', '▁a', '▁one', '-', 'h', 'or', 'se', '▁open', '▁s', 'le', 'i', 'g', 'h', '.', '\\n', 'D', 'ash', 'ing', '▁through', '▁the', '▁s', 'n', 'ow', '\\n', 'I', 'n', '▁a', '▁one', '-', 'h', 'or', 'se', '▁open', '▁s', 'le', 'i', 'g', 'h', '\\n', 'T', 'h', 'r', 'ough', '▁the', '▁f', 'i', 'el', 'd', 's', '▁we', '▁go', '\\n', 'L', 'a', 'u', 'g', 'h', 'ing', '▁all', '▁the', '▁way', '.', '\\n', 'B', 'e', 'll', 's', '▁on', '▁bo', 'b', '-', 'ta', 'il', '▁', 'r', 'ing', '\\n', 'M', 'a', 'k', 'ing', '▁spirit', 's', '▁b', 'ri', 'g', 'h', 't', '\\n', 'What', '▁f', 'un', '.', '.', '.']\n"
     ]
    }
   ],
   "source": [
    "a=sp.EncodeAsPieces(contents)\n",
    "print(a)"
   ]
  },
  {
   "cell_type": "code",
   "execution_count": 8,
   "metadata": {},
   "outputs": [
    {
     "name": "stdout",
     "output_type": "stream",
     "text": [
      "[4, 336, 18, 82, 38, 88, 8, 5, 4, 999, 18, 82, 38, 88, 8, 0, 336, 18, 82, 90, 7, 184, 5, 0, 258, 60, 154, 74, 160, 27, 47, 10, 4, 83, 17, 16, 0, 100, 24, 11, 81, 35, 60, 54, 91, 509, 51, 82, 25, 37, 60, 5, 0, 336, 18, 82, 38, 88, 8, 5, 4, 999, 18, 82, 38, 88, 8, 0, 336, 18, 82, 90, 7, 184, 5, 0, 258, 60, 154, 74, 160, 27, 47, 10, 4, 83, 17, 16, 0, 100, 24, 11, 81, 35, 60, 54, 91, 509, 51, 82, 25, 37, 60, 6, 0, 373, 462, 18, 444, 7, 51, 24, 127, 0, 100, 24, 11, 81, 35, 60, 54, 91, 509, 51, 82, 25, 37, 60, 0, 177, 60, 30, 290, 7, 74, 25, 170, 17, 8, 115, 121, 0, 277, 19, 53, 37, 60, 18, 90, 7, 184, 6, 0, 540, 16, 88, 8, 59, 249, 66, 35, 281, 128, 4, 30, 18, 0, 431, 19, 46, 18, 895, 8, 80, 83, 37, 60, 15, 0, 575, 74, 160, 27, 47, 10, 4, 83, 17, 16, 13, 51, 18, 0, 194, 51, 82, 25, 37, 60, 18, 71, 179, 10, 576, 6, 0, 336, 18, 82, 38, 88, 8, 5, 4, 999, 18, 35, 999, 18, 82, 38, 88, 8, 0, 336, 18, 82, 90, 7, 184, 5, 0, 258, 60, 154, 74, 160, 27, 47, 10, 4, 83, 17, 16, 0, 100, 24, 11, 81, 35, 60, 54, 91, 509, 51, 82, 25, 37, 60, 5, 80, 30, 30, 53, 322, 0, 336, 18, 82, 38, 88, 8, 5, 4, 999, 18, 82, 38, 88, 8, 0, 336, 18, 82, 90, 7, 184, 5, 0, 258, 60, 154, 74, 160, 27, 47, 10, 4, 83, 17, 16, 0, 100, 24, 11, 81, 35, 60, 54, 91, 509, 51, 82, 25, 37, 60, 6, 0, 373, 462, 18, 444, 7, 51, 24, 127, 0, 100, 24, 11, 81, 35, 60, 54, 91, 509, 51, 82, 25, 37, 60, 0, 177, 60, 30, 290, 7, 74, 25, 170, 17, 8, 115, 121, 0, 277, 19, 53, 37, 60, 18, 90, 7, 184, 6, 0, 540, 16, 88, 8, 59, 249, 66, 35, 281, 128, 4, 30, 18, 0, 431, 19, 46, 18, 895, 8, 80, 83, 37, 60, 15, 0, 575, 74, 160, 6, 6, 6]\n"
     ]
    }
   ],
   "source": [
    "b=sp.EncodeAsIds(contents)\n",
    "print(b)"
   ]
  },
  {
   "cell_type": "code",
   "execution_count": 9,
   "metadata": {},
   "outputs": [
    {
     "data": {
      "text/plain": [
       "'Jingle bells, jingle bells\\nJingle all the way,\\nOh what fun it is to ride\\nIn a one-horse open sleigh,\\nJingle bells, jingle bells\\nJingle all the way,\\nOh what fun it is to ride\\nIn a one-horse open sleigh.\\nDashing through the snow\\nIn a one-horse open sleigh\\nThrough the fields we go\\nLaughing all the way.\\nBells on bob-tail ring\\nMaking spirits bright\\nWhat fun it is to ride and sing\\nA sleighing song tonight.\\nJingle bells, jing-jingle bells\\nJingle all the way,\\nOh what fun it is to ride\\nIn a one-horse open sleigh, brruup\\nJingle bells, jingle bells\\nJingle all the way,\\nOh what fun it is to ride\\nIn a one-horse open sleigh.\\nDashing through the snow\\nIn a one-horse open sleigh\\nThrough the fields we go\\nLaughing all the way.\\nBells on bob-tail ring\\nMaking spirits bright\\nWhat fun...'"
      ]
     },
     "execution_count": 9,
     "metadata": {},
     "output_type": "execute_result"
    }
   ],
   "source": [
    "sp.DecodePieces(a)"
   ]
  },
  {
   "cell_type": "code",
   "execution_count": 10,
   "metadata": {},
   "outputs": [
    {
     "data": {
      "text/plain": [
       "'Jingle bells, jingle bells ⁇ Jingle all the way, ⁇ Oh what fun it is to ride ⁇ In a one-horse open sleigh, ⁇ Jingle bells, jingle bells ⁇ Jingle all the way, ⁇ Oh what fun it is to ride ⁇ In a one-horse open sleigh. ⁇ Dashing through the snow ⁇ In a one-horse open sleigh ⁇ Through the fields we go ⁇ Laughing all the way. ⁇ Bells on bob-tail ring ⁇ Making spirits bright ⁇ What fun it is to ride and sing ⁇ A sleighing song tonight. ⁇ Jingle bells, jing-jingle bells ⁇ Jingle all the way, ⁇ Oh what fun it is to ride ⁇ In a one-horse open sleigh, brruup ⁇ Jingle bells, jingle bells ⁇ Jingle all the way, ⁇ Oh what fun it is to ride ⁇ In a one-horse open sleigh. ⁇ Dashing through the snow ⁇ In a one-horse open sleigh ⁇ Through the fields we go ⁇ Laughing all the way. ⁇ Bells on bob-tail ring ⁇ Making spirits bright ⁇ What fun...'"
      ]
     },
     "execution_count": 10,
     "metadata": {},
     "output_type": "execute_result"
    }
   ],
   "source": [
    "sp.DecodeIds(b)\n",
    "#don't know why has double question marks # ?? is the code for UNK"
   ]
  },
  {
   "cell_type": "code",
   "execution_count": 11,
   "metadata": {},
   "outputs": [
    {
     "data": {
      "text/plain": [
       "1000"
      ]
     },
     "execution_count": 11,
     "metadata": {},
     "output_type": "execute_result"
    }
   ],
   "source": [
    "sp.GetPieceSize()"
   ]
  },
  {
   "cell_type": "code",
   "execution_count": 12,
   "metadata": {},
   "outputs": [
    {
     "data": {
      "text/plain": [
       "'.'"
      ]
     },
     "execution_count": 12,
     "metadata": {},
     "output_type": "execute_result"
    }
   ],
   "source": [
    "sp.IdToPiece(6)"
   ]
  },
  {
   "cell_type": "code",
   "execution_count": 13,
   "metadata": {},
   "outputs": [
    {
     "data": {
      "text/plain": [
       "282"
      ]
     },
     "execution_count": 13,
     "metadata": {},
     "output_type": "execute_result"
    }
   ],
   "source": [
    " sp.PieceToId('That')"
   ]
  },
  {
   "cell_type": "code",
   "execution_count": 14,
   "metadata": {},
   "outputs": [
    {
     "data": {
      "text/plain": [
       "1000"
      ]
     },
     "execution_count": 14,
     "metadata": {},
     "output_type": "execute_result"
    }
   ],
   "source": [
    "len(sp)"
   ]
  },
  {
   "cell_type": "code",
   "execution_count": 15,
   "metadata": {},
   "outputs": [
    {
     "data": {
      "text/plain": [
       "2"
      ]
     },
     "execution_count": 15,
     "metadata": {},
     "output_type": "execute_result"
    }
   ],
   "source": [
    "sp['</s>']"
   ]
  },
  {
   "cell_type": "code",
   "execution_count": 16,
   "metadata": {},
   "outputs": [
    {
     "name": "stdout",
     "output_type": "stream",
     "text": [
      "*** BPE ***\n",
      "['▁Jingle', '▁bells', ',', '▁jingle', '▁bells', '▁Jingle', '▁all', '▁the', '▁way', ',', '▁Oh', '▁what', '▁fun', '▁it', '▁is', '▁to', '▁ride', '▁In', '▁a', '▁one', '-', 'horse', '▁open', '▁sleigh', ',', '▁Jingle', '▁bells', ',', '▁jingle', '▁bells', '▁Jingle', '▁all', '▁the', '▁way', ',', '▁Oh', '▁what', '▁fun', '▁it', '▁is', '▁to', '▁ride', '▁In', '▁a', '▁one', '-', 'horse', '▁open', '▁sleigh', '.', '▁', 'Da', 's', 'h', 'ing', '▁th', 'rough', '▁the', '▁s', 'n', 'o', 'w', '▁In', '▁a', '▁one', '-', 'horse', '▁open', '▁sleigh', '▁', 'Th', 'rough', '▁the', '▁f', 'i', 'e', 'l', 'd', 's', '▁w', 'e', '▁', 'g', 'o', '▁', 'La', 'ugh', 'ing', '▁all', '▁the', '▁way', '.', '▁', 'B', 'ells', '▁on', '▁b', 'o', 'b', '-', 't', 'a', 'i', 'l', '▁', 'r', 'ing', '▁', 'Ma', 'k', 'ing', '▁s', 'p', 'i', 'ri', 't', 's', '▁br', 'ight', '▁', 'W', 'hat', '▁fun', '▁it', '▁is', '▁to', '▁ride', '▁a', 'n', 'd', '▁s', 'ing', '▁', 'A', '▁sleigh', 'ing', '▁s', 'o', 'ng', '▁to', 'n', 'ight', '.', '▁Jingle', '▁bells', ',', '▁j', 'ing', '-', 'j', 'ingle', '▁bells', '▁Jingle', '▁all', '▁the', '▁way', ',', '▁Oh', '▁what', '▁fun', '▁it', '▁is', '▁to', '▁ride', '▁In', '▁a', '▁one', '-', 'horse', '▁open', '▁sleigh', ',', '▁br', 'r', 'u', 'u', 'p', '▁Jingle', '▁bells', ',', '▁jingle', '▁bells', '▁Jingle', '▁all', '▁the', '▁way', ',', '▁Oh', '▁what', '▁fun', '▁it', '▁is', '▁to', '▁ride', '▁In', '▁a', '▁one', '-', 'horse', '▁open', '▁sleigh', '.', '▁', 'Da', 's', 'h', 'ing', '▁th', 'rough', '▁the', '▁s', 'n', 'o', 'w', '▁In', '▁a', '▁one', '-', 'horse', '▁open', '▁sleigh', '▁', 'Th', 'rough', '▁the', '▁f', 'i', 'e', 'l', 'd', 's', '▁w', 'e', '▁', 'g', 'o', '▁', 'La', 'ugh', 'ing', '▁all', '▁the', '▁way', '.', '▁', 'B', 'ells', '▁on', '▁b', 'o', 'b', '-', 't', 'a', 'i', 'l', '▁', 'r', 'ing', '▁', 'Ma', 'k', 'ing', '▁s', 'p', 'i', 'ri', 't', 's', '▁br', 'ight', '▁', 'W', 'hat', '▁fun', '.', '.', '.']\n"
     ]
    }
   ],
   "source": [
    "#Test BPE\n",
    "#spm_encode --model=<model_file> --output_format=piece < input > output\n",
    "spm.SentencePieceTrainer.train('--input=../data/always.txt --model_prefix=m_bpe --vocab_size=100 --model_type=bpe')\n",
    "sp_bpe = spm.SentencePieceProcessor()\n",
    "sp_bpe.load('m_bpe.model')\n",
    "\n",
    "print('*** BPE ***')\n",
    "aBp=(sp_bpe.encode_as_pieces(contents))\n",
    "print(aBp)\n"
   ]
  },
  {
   "cell_type": "code",
   "execution_count": 17,
   "metadata": {},
   "outputs": [
    {
     "name": "stdout",
     "output_type": "stream",
     "text": [
      "*** BPE ***\n",
      "[25, 24, 81, 61, 24, 25, 42, 20, 45, 81, 56, 58, 43, 50, 49, 41, 52, 40, 10, 44, 82, 46, 47, 28, 81, 25, 24, 81, 61, 24, 25, 42, 20, 45, 81, 56, 58, 43, 50, 49, 41, 52, 40, 10, 44, 82, 46, 47, 28, 84, 66, 62, 73, 71, 4, 14, 57, 20, 12, 70, 74, 80, 40, 10, 44, 82, 46, 47, 28, 66, 65, 57, 20, 22, 68, 67, 69, 86, 73, 13, 67, 66, 72, 74, 66, 63, 39, 4, 42, 20, 45, 84, 66, 92, 19, 23, 11, 74, 78, 82, 75, 76, 68, 69, 66, 77, 4, 66, 64, 98, 4, 12, 83, 68, 26, 75, 73, 59, 60, 66, 97, 36, 43, 50, 49, 41, 52, 10, 70, 86, 12, 4, 66, 99, 28, 4, 12, 74, 3, 41, 70, 60, 84, 25, 24, 81, 55, 4, 82, 90, 15, 24, 25, 42, 20, 45, 81, 56, 58, 43, 50, 49, 41, 52, 40, 10, 44, 82, 46, 47, 28, 81, 59, 77, 79, 79, 83, 25, 24, 81, 61, 24, 25, 42, 20, 45, 81, 56, 58, 43, 50, 49, 41, 52, 40, 10, 44, 82, 46, 47, 28, 84, 66, 62, 73, 71, 4, 14, 57, 20, 12, 70, 74, 80, 40, 10, 44, 82, 46, 47, 28, 66, 65, 57, 20, 22, 68, 67, 69, 86, 73, 13, 67, 66, 72, 74, 66, 63, 39, 4, 42, 20, 45, 84, 66, 92, 19, 23, 11, 74, 78, 82, 75, 76, 68, 69, 66, 77, 4, 66, 64, 98, 4, 12, 83, 68, 26, 75, 73, 59, 60, 66, 97, 36, 43, 84, 84, 84]\n"
     ]
    }
   ],
   "source": [
    "print('*** BPE ***')\n",
    "bBp=(sp_bpe.encode_as_ids(contents))\n",
    "print(bBp)\n",
    "#print(sp_bpe.encode_as_ids(b))"
   ]
  },
  {
   "cell_type": "code",
   "execution_count": 18,
   "metadata": {},
   "outputs": [
    {
     "name": "stdout",
     "output_type": "stream",
     "text": [
      "<unk> False\n",
      "<s> True\n",
      "</s> True\n",
      "ng False\n"
     ]
    }
   ],
   "source": [
    "for id in range(4):\n",
    "    print(sp_bpe.id_to_piece(id), sp.is_control(id))"
   ]
  },
  {
   "cell_type": "code",
   "execution_count": 19,
   "metadata": {},
   "outputs": [
    {
     "data": {
      "text/plain": [
       "'Jingle bells, jingle bells Jingle all the way, Oh what fun it is to ride In a one-horse open sleigh, Jingle bells, jingle bells Jingle all the way, Oh what fun it is to ride In a one-horse open sleigh. Dashing through the snow In a one-horse open sleigh Through the fields we go Laughing all the way. Bells on bob-tail ring Making spirits bright What fun it is to ride and sing A sleighing song tonight. Jingle bells, jing-jingle bells Jingle all the way, Oh what fun it is to ride In a one-horse open sleigh, brruup Jingle bells, jingle bells Jingle all the way, Oh what fun it is to ride In a one-horse open sleigh. Dashing through the snow In a one-horse open sleigh Through the fields we go Laughing all the way. Bells on bob-tail ring Making spirits bright What fun...'"
      ]
     },
     "execution_count": 19,
     "metadata": {},
     "output_type": "execute_result"
    }
   ],
   "source": [
    "sp_bpe.DecodePieces(aBp)"
   ]
  },
  {
   "cell_type": "code",
   "execution_count": 20,
   "metadata": {},
   "outputs": [
    {
     "data": {
      "text/plain": [
       "'Jingle bells, jingle bells Jingle all the way, Oh what fun it is to ride In a one-horse open sleigh, Jingle bells, jingle bells Jingle all the way, Oh what fun it is to ride In a one-horse open sleigh. Dashing through the snow In a one-horse open sleigh Through the fields we go Laughing all the way. Bells on bob-tail ring Making spirits bright What fun it is to ride and sing A sleighing song tonight. Jingle bells, jing-jingle bells Jingle all the way, Oh what fun it is to ride In a one-horse open sleigh, brruup Jingle bells, jingle bells Jingle all the way, Oh what fun it is to ride In a one-horse open sleigh. Dashing through the snow In a one-horse open sleigh Through the fields we go Laughing all the way. Bells on bob-tail ring Making spirits bright What fun...'"
      ]
     },
     "execution_count": 20,
     "metadata": {},
     "output_type": "execute_result"
    }
   ],
   "source": [
    "sp_bpe.DecodeIds(bBp)"
   ]
  },
  {
   "cell_type": "code",
   "execution_count": 21,
   "metadata": {},
   "outputs": [
    {
     "name": "stderr",
     "output_type": "stream",
     "text": [
      "/usr/local/lib/python3.7/site-packages/ipykernel_launcher.py:9: DeprecationWarning: Call to deprecated `__getitem__` (Method will be removed in 4.0.0, use self.wv.__getitem__() instead).\n",
      "  if __name__ == '__main__':\n"
     ]
    },
    {
     "data": {
      "text/plain": [
       "(278, 100)"
      ]
     },
     "execution_count": 21,
     "metadata": {},
     "output_type": "execute_result"
    }
   ],
   "source": [
    "#from gensim.models import KeyedVectors\n",
    "\n",
    "from gensim.models import Word2Vec\n",
    "# define training data\n",
    "\n",
    "model = Word2Vec([aBp], min_count=1)\n",
    "# summarize the loaded model\n",
    "\n",
    "bpe_embs = model[aBp]\n",
    "bpe_embs.shape"
   ]
  },
  {
   "cell_type": "code",
   "execution_count": 22,
   "metadata": {},
   "outputs": [
    {
     "data": {
      "text/plain": [
       "array([-2.52252212e-03, -2.33554817e-03,  3.35221994e-03,  2.19400623e-04,\n",
       "        4.68653021e-03, -3.03398189e-03,  2.39454303e-03, -3.19712423e-03,\n",
       "       -4.52416111e-03,  2.96290196e-03, -3.47381830e-03,  4.87502257e-04,\n",
       "       -2.41410290e-03, -4.08041850e-03, -2.51248060e-03,  3.74631397e-03,\n",
       "        2.46575731e-03,  1.85798761e-03, -4.43895115e-03, -3.92406201e-03,\n",
       "        1.54189719e-03,  1.58090924e-03,  1.19651784e-03,  2.43929517e-03,\n",
       "       -3.63118335e-04, -1.19703193e-03, -2.50312849e-03, -3.92338261e-04,\n",
       "        2.54466687e-03,  2.63723661e-03,  1.81810974e-04,  2.42031622e-03,\n",
       "       -4.39405022e-03,  4.95263655e-03, -4.03069332e-03,  7.86688586e-04,\n",
       "       -3.64169409e-03, -4.73916763e-03, -4.93105082e-03,  4.92473308e-04,\n",
       "        2.26765079e-03,  2.86312611e-03, -3.15227453e-03,  3.29739018e-03,\n",
       "       -1.85131072e-03, -6.44616142e-04, -3.21893813e-03, -3.18014016e-03,\n",
       "        1.10596164e-04,  4.06664144e-03,  4.25793650e-03,  3.39486497e-03,\n",
       "       -6.53540716e-04,  3.79820238e-03, -3.05285165e-03,  5.76506311e-04,\n",
       "       -2.59333430e-03, -2.07802095e-03,  1.53995876e-04, -4.86148475e-03,\n",
       "       -3.66141880e-03, -4.09059878e-03, -3.72359529e-03, -1.65984652e-03,\n",
       "        4.86597605e-03, -3.92857008e-03,  1.00327260e-03,  4.38649236e-04,\n",
       "       -9.16203135e-04,  2.94675498e-04, -4.27631103e-03, -1.83497521e-03,\n",
       "        4.45323251e-03, -4.89360001e-03, -2.02752155e-04, -3.39825777e-03,\n",
       "       -4.68543964e-03, -1.70456027e-04, -1.63105538e-03,  3.64930835e-03,\n",
       "        2.36284453e-03, -1.29082345e-03, -3.57051264e-03,  4.28929646e-03,\n",
       "        4.54383343e-03,  4.24492697e-04,  4.33398178e-03, -1.70027371e-03,\n",
       "       -4.10791300e-03,  2.69599259e-03,  6.50032089e-05, -5.62891364e-04,\n",
       "       -9.90358414e-04, -1.27301970e-03, -4.97835688e-03,  5.11436630e-03,\n",
       "       -6.84196246e-04, -3.16479732e-03,  1.41258840e-03,  1.95338274e-03],\n",
       "      dtype=float32)"
      ]
     },
     "execution_count": 22,
     "metadata": {},
     "output_type": "execute_result"
    }
   ],
   "source": [
    "bpe_embs[2]"
   ]
  },
  {
   "cell_type": "code",
   "execution_count": null,
   "metadata": {},
   "outputs": [],
   "source": [
    "#just for saving, do not run\n",
    "\n",
    "print(model)\n",
    "# summarize vocabulary\n",
    "words = list(model.wv.vocab)\n",
    "print(words)\n",
    "# access vector for one word\n",
    "print(model['sentence'])\n",
    "# save model\n",
    "model.save('model.bin')\n",
    "# load model\n",
    "new_model = Word2Vec.load('model.bin')\n",
    "\n",
    "model = KeyedVectors.load_word2vec_format('../input/en.wiki.bpe.op1000.d25.w2v.bin', binary=True)"
   ]
  },
  {
   "cell_type": "code",
   "execution_count": 23,
   "metadata": {},
   "outputs": [],
   "source": [
    "text=\"Pohjoismaissa on pitkään syntynyt enemmän lapsia kuin muissa rikkaissa maissa, mutta se saattaa nyt muuttua – eikä kukaan oikein tiedä miksi\""
   ]
  },
  {
   "cell_type": "code",
   "execution_count": 24,
   "metadata": {},
   "outputs": [
    {
     "name": "stdout",
     "output_type": "stream",
     "text": [
      "['▁P', 'o', 'h', 'j', 'o', 'is', 'm', 'a', 'is', 's', 'a', '▁on', '▁p', 'it', 'k', 'ää', 'n', '▁s', 'y', 'n', 'ty', 'n', 'y', 't', '▁e', 'ne', 'm', 'm', 'ä', 'n', '▁', 'la', 'p', 's', 'i', 'a', '▁', 'ku', 'in', '▁', 'm', 'u', 'is', 's', 'a', '▁', 'ri', 'k', 'k', 'a', 'is', 's', 'a', '▁ma', 'is', 's', 'a', ',', '▁', 'm', 'ut', 'ta', '▁', 'se', '▁s', 'a', 'at', 'ta', 'a', '▁', 'n', 'y', 't', '▁', 'm', 'u', 'ut', 't', 'u', 'a', '▁', '–', '▁e', 'i', 'k', 'ä', '▁', 'ku', 'k', 'a', 'an', '▁', 'o', 'i', 'ke', 'in', '▁ti', 'ed', 'ä', '▁mi', 'k', 's', 'i']\n"
     ]
    }
   ],
   "source": [
    "finNish=sp.EncodeAsPieces(text)\n",
    "print(finNish)"
   ]
  },
  {
   "cell_type": "code",
   "execution_count": 25,
   "metadata": {},
   "outputs": [
    {
     "data": {
      "text/plain": [
       "'Pohjoismaissa on pitkään syntynyt enemmän lapsia kuin muissa rikkaissa maissa, mutta se saattaa nyt muuttua – eikä kukaan oikein tiedä miksi'"
      ]
     },
     "execution_count": 25,
     "metadata": {},
     "output_type": "execute_result"
    }
   ],
   "source": [
    "sp.DecodePieces(finNish)"
   ]
  },
  {
   "cell_type": "code",
   "execution_count": 26,
   "metadata": {},
   "outputs": [],
   "source": [
    "import os\n",
    "destPath=('../data/finnish.txt')\n",
    "f=open(destPath, \"r\",  encoding='utf-8')"
   ]
  },
  {
   "cell_type": "code",
   "execution_count": 27,
   "metadata": {},
   "outputs": [
    {
     "name": "stdout",
     "output_type": "stream",
     "text": [
      "*** BPE ***\n",
      "['▁Po', 'hjoism', 'aissa', '▁on', '▁p', 'itkään', '▁sy', 'ntynyt', '▁en', 'emmän', '▁lapsia', '▁kuin', '▁muissa', '▁rikk', 'aissa', '▁maissa', ',', '▁mutta', '▁se', '▁sa', 'attaa', '▁nyt', '▁mu', 'uttua', '▁–', '▁eikä', '▁kukaan', '▁oik', 'ein', '▁tiedä', '▁miksi']\n"
     ]
    }
   ],
   "source": [
    "spm.SentencePieceTrainer.train('--input=../data/finnish.txt --model_prefix=m_bpe --vocab_size=100 --model_type=bpe')\n",
    "sp_bpe = spm.SentencePieceProcessor()\n",
    "sp_bpe.load('m_bpe.model')\n",
    "fin=f.read()\n",
    "print('*** BPE ***')\n",
    "afBp=(sp_bpe.encode_as_pieces(fin))\n",
    "print(afBp)"
   ]
  },
  {
   "cell_type": "code",
   "execution_count": 28,
   "metadata": {},
   "outputs": [
    {
     "data": {
      "text/plain": [
       "'Pohjoismaissa on pitkään syntynyt enemmän lapsia kuin muissa rikkaissa maissa, mutta se saattaa nyt muuttua – eikä kukaan oikein tiedä miksi'"
      ]
     },
     "execution_count": 28,
     "metadata": {},
     "output_type": "execute_result"
    }
   ],
   "source": [
    "sp_bpe.DecodePieces(afBp)"
   ]
  },
  {
   "cell_type": "code",
   "execution_count": 29,
   "metadata": {},
   "outputs": [],
   "source": [
    "text2=\"Det var under sommaren som Zlatan Ibrahimovic sågade den amerikanska ligan, MLS. Han hävdade att nivån där inte är samma som den i Europa. När jag spelade där lirade jag med killar som var på samma nivå som jag var, eller väldigt nära. Det gör det enklare att spela tillsammans. Här är jag som en Ferrari bland Fiat. Det kan hända att en Ferrari kan bli en Fiat eller att en Fiat kan bli en Ferrari. Jag hade samma problem i landslaget, även om det inte var lika stort där, sa Ibrahimovic i en intervju med ESPN.\""
   ]
  },
  {
   "cell_type": "code",
   "execution_count": 30,
   "metadata": {},
   "outputs": [
    {
     "name": "stdout",
     "output_type": "stream",
     "text": [
      "['▁D', 'e', 't', '▁va', 'r', '▁under', '▁so', 'm', 'm', 'ar', 'en', '▁so', 'm', '▁', 'Z', 'l', 'at', 'an', '▁I', 'b', 'r', 'a', 'h', 'im', 'o', 'v', 'ic', '▁s', 'å', 'g', 'ad', 'e', '▁de', 'n', '▁am', 'er', 'i', 'k', 'an', 's', 'k', 'a', '▁l', 'i', 'g', 'an', ',', '▁M', 'L', 'S', '.', '▁', 'H', 'an', '▁', 'h', 'ä', 'v', 'd', 'ad', 'e', '▁at', 't', '▁', 'n', 'i', 'v', 'å', 'n', '▁d', 'ä', 'r', '▁in', 'te', '▁', 'ä', 'r', '▁s', 'a', 'm', 'm', 'a', '▁so', 'm', '▁de', 'n', '▁', 'i', '▁', 'E', 'ur', 'op', 'a', '.', '▁', 'N', 'ä', 'r', '▁', 'j', 'a', 'g', '▁sp', 'el', 'ad', 'e', '▁d', 'ä', 'r', '▁l', 'ir', 'ad', 'e', '▁', 'j', 'a', 'g', '▁me', 'd', '▁', 'k', 'i', 'll', 'ar', '▁so', 'm', '▁va', 'r', '▁p', 'å', '▁s', 'a', 'm', 'm', 'a', '▁', 'n', 'i', 'v', 'å', '▁so', 'm', '▁', 'j', 'a', 'g', '▁va', 'r', ',', '▁e', 'll', 'er', '▁', 'v', 'ä', 'l', 'd', 'i', 'g', 't', '▁', 'n', 'ä', 'r', 'a', '.', '▁D', 'e', 't', '▁', 'g', 'ö', 'r', '▁de', 't', '▁', 'en', 'k', 'la', 're', '▁at', 't', '▁sp', 'e', 'la', '▁ti', 'll', 's', 'a', 'm', 'man', 's', '.', '▁', 'H', 'ä', 'r', '▁', 'ä', 'r', '▁', 'j', 'a', 'g', '▁so', 'm', '▁', 'en', '▁F', 'er', 'r', 'ar', 'i', '▁b', 'l', 'and', '▁F', 'i', 'at', '.', '▁D', 'e', 't', '▁', 'k', 'an', '▁', 'h', 'ä', 'n', 'd', 'a', '▁at', 't', '▁', 'en', '▁F', 'er', 'r', 'ar', 'i', '▁', 'k', 'an', '▁b', 'l', 'i', '▁', 'en', '▁F', 'i', 'at', '▁e', 'll', 'er', '▁at', 't', '▁', 'en', '▁F', 'i', 'at', '▁', 'k', 'an', '▁b', 'l', 'i', '▁', 'en', '▁F', 'er', 'r', 'ar', 'i', '.', '▁', 'J', 'a', 'g', '▁had', 'e', '▁s', 'a', 'm', 'm', 'a', '▁pro', 'ble', 'm', '▁', 'i', '▁l', 'and', 's', 'l', 'age', 't', ',', '▁', 'ä', 've', 'n', '▁', 'o', 'm', '▁de', 't', '▁in', 'te', '▁va', 'r', '▁l', 'i', 'k', 'a', '▁', 'st', 'or', 't', '▁d', 'ä', 'r', ',', '▁s', 'a', '▁I', 'b', 'r', 'a', 'h', 'im', 'o', 'v', 'ic', '▁', 'i', '▁', 'en', '▁in', 'ter', 'v', 'j', 'u', '▁me', 'd', '▁', 'E', 'S', 'P', 'N', '.']\n"
     ]
    }
   ],
   "source": [
    "sweDish=sp.EncodeAsPieces(text2)\n",
    "print(sweDish)"
   ]
  },
  {
   "cell_type": "code",
   "execution_count": 31,
   "metadata": {},
   "outputs": [],
   "source": [
    "#print(sp.nbest_encode_as_pieces(text2,2))"
   ]
  },
  {
   "cell_type": "code",
   "execution_count": 32,
   "metadata": {},
   "outputs": [
    {
     "data": {
      "text/plain": [
       "'Det var under sommaren som Zlatan Ibrahimovic sågade den amerikanska ligan, MLS. Han hävdade att nivån där inte är samma som den i Europa. När jag spelade där lirade jag med killar som var på samma nivå som jag var, eller väldigt nära. Det gör det enklare att spela tillsammans. Här är jag som en Ferrari bland Fiat. Det kan hända att en Ferrari kan bli en Fiat eller att en Fiat kan bli en Ferrari. Jag hade samma problem i landslaget, även om det inte var lika stort där, sa Ibrahimovic i en intervju med ESPN.'"
      ]
     },
     "execution_count": 32,
     "metadata": {},
     "output_type": "execute_result"
    }
   ],
   "source": [
    "sp.DecodePieces(sweDish)"
   ]
  },
  {
   "cell_type": "code",
   "execution_count": 33,
   "metadata": {},
   "outputs": [],
   "source": [
    "#text3=\"这个刚刚生成的冰山被命名为D28号，方圆1636平方公里，面积相当于1.5个香港。如此庞大的冰山生成后，未来可能对航运带来危险，因此它的移动方向以及变化情况将随时受到监控跟踪。\""
   ]
  },
  {
   "cell_type": "code",
   "execution_count": 34,
   "metadata": {},
   "outputs": [],
   "source": [
    "#chinese=sp.EncodeAsPieces(text3)\n",
    "#print(chinese)"
   ]
  },
  {
   "cell_type": "code",
   "execution_count": 35,
   "metadata": {},
   "outputs": [],
   "source": [
    "text4=\"France 5 est la chaîne de la connaissance et du savoir à destination de tous les publics. Explorer, étonner, éclairer. Retrouvez France 5 en replay et en direct sur france.tv. Magazines, jeunesse, débats de société, et les ... documentaires de France 5 contribue à la compréhension du monde qui nous entoure et de son environnement. La chaîne France 5 fait partie des chaînes généralistes du service public français. \""
   ]
  },
  {
   "cell_type": "code",
   "execution_count": 36,
   "metadata": {},
   "outputs": [
    {
     "name": "stdout",
     "output_type": "stream",
     "text": [
      "['▁F', 'r', 'ance', '▁', '5', '▁', 'est', '▁', 'la', '▁cha', 'î', 'ne', '▁de', '▁', 'la', '▁con', 'n', 'a', 'is', 's', 'ance', '▁e', 't', '▁d', 'u', '▁s', 'a', 'v', 'o', 'ir', '▁', 'à', '▁de', 'st', 'in', 'ation', '▁de', '▁to', 'us', '▁', 'le', 's', '▁public', 's', '.', '▁', 'E', 'x', 'p', 'l', 'or', 'er', ',', '▁', 'é', 't', 'on', 'n', 'er', ',', '▁', 'é', 'c', 'la', 'ir', 'er', '.', '▁', 'R', 'e', 't', 'ro', 'u', 've', 'z', '▁F', 'r', 'ance', '▁', '5', '▁', 'en', '▁re', 'p', 'la', 'y', '▁e', 't', '▁', 'en', '▁direct', '▁s', 'ur', '▁f', 'r', 'ance', '.', 't', 'v', '.', '▁M', 'a', 'g', 'a', 'z', 'in', 'es', ',', '▁', 'j', 'e', 'u', 'ness', 'e', ',', '▁d', 'é', 'b', 'at', 's', '▁de', '▁so', 'c', 'i', 'é', 't', 'é', ',', '▁e', 't', '▁', 'le', 's', '▁', '.', '.', '.', '▁do', 'c', 'u', 'ment', 'a', 'ir', 'es', '▁de', '▁F', 'r', 'ance', '▁', '5', '▁con', 't', 'ri', 'b', 'u', 'e', '▁', 'à', '▁', 'la', '▁comp', 'r', 'é', 'h', 'en', 's', 'ion', '▁d', 'u', '▁mo', 'n', 'd', 'e', '▁', 'qu', 'i', '▁no', 'us', '▁', 'ent', 'o', 'ur', 'e', '▁e', 't', '▁de', '▁so', 'n', '▁', 'en', 'v', 'ir', 'on', 'ne', 'ment', '.', '▁', 'L', 'a', '▁cha', 'î', 'ne', '▁F', 'r', 'ance', '▁', '5', '▁f', 'a', 'it', '▁part', 'i', 'e', '▁de', 's', '▁cha', 'î', 'ne', 's', '▁', 'g', 'é', 'n', 'é', 'r', 'al', 'is', 'te', 's', '▁d', 'u', '▁s', 'er', 'v', 'ic', 'e', '▁public', '▁f', 'r', 'an', 'ç', 'a', 'is', '.']\n"
     ]
    }
   ],
   "source": [
    "french=sp.EncodeAsPieces(text4)\n",
    "print(french)"
   ]
  },
  {
   "cell_type": "code",
   "execution_count": 37,
   "metadata": {},
   "outputs": [
    {
     "data": {
      "text/plain": [
       "'France 5 est la chaîne de la connaissance et du savoir à destination de tous les publics. Explorer, étonner, éclairer. Retrouvez France 5 en replay et en direct sur france.tv. Magazines, jeunesse, débats de société, et les ... documentaires de France 5 contribue à la compréhension du monde qui nous entoure et de son environnement. La chaîne France 5 fait partie des chaînes généralistes du service public français.'"
      ]
     },
     "execution_count": 37,
     "metadata": {},
     "output_type": "execute_result"
    }
   ],
   "source": [
    "sp.DecodePieces(french)"
   ]
  },
  {
   "cell_type": "code",
   "execution_count": null,
   "metadata": {},
   "outputs": [],
   "source": [
    "#print(sp.nbest_encode_as_pieces(text4,2)) # the second parameter 2 means the top 2 best "
   ]
  },
  {
   "cell_type": "code",
   "execution_count": null,
   "metadata": {},
   "outputs": [],
   "source": []
  }
 ],
 "metadata": {
  "kernelspec": {
   "display_name": "Python 3",
   "language": "python",
   "name": "python3"
  },
  "language_info": {
   "codemirror_mode": {
    "name": "ipython",
    "version": 3
   },
   "file_extension": ".py",
   "mimetype": "text/x-python",
   "name": "python",
   "nbconvert_exporter": "python",
   "pygments_lexer": "ipython3",
   "version": "3.7.4"
  },
  "latex_envs": {
   "LaTeX_envs_menu_present": true,
   "autoclose": false,
   "autocomplete": true,
   "bibliofile": "biblio.bib",
   "cite_by": "apalike",
   "current_citInitial": 1,
   "eqLabelWithNumbers": true,
   "eqNumInitial": 1,
   "hotkeys": {
    "equation": "Ctrl-E",
    "itemize": "Ctrl-I"
   },
   "labels_anchors": false,
   "latex_user_defs": false,
   "report_style_numbering": false,
   "user_envs_cfg": false
  },
  "toc": {
   "base_numbering": 1,
   "nav_menu": {},
   "number_sections": true,
   "sideBar": true,
   "skip_h1_title": false,
   "title_cell": "Table of Contents",
   "title_sidebar": "Contents",
   "toc_cell": false,
   "toc_position": {},
   "toc_section_display": true,
   "toc_window_display": false
  }
 },
 "nbformat": 4,
 "nbformat_minor": 2
}
