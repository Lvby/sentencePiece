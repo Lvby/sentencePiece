{
 "cells": [
  {
   "cell_type": "code",
   "execution_count": 1,
   "metadata": {},
   "outputs": [],
   "source": [
    "import sentencepiece as spm"
   ]
  },
  {
   "cell_type": "code",
   "execution_count": 2,
   "metadata": {},
   "outputs": [],
   "source": [
    "sp = spm.SentencePieceProcessor()"
   ]
  },
  {
   "cell_type": "code",
   "execution_count": 3,
   "metadata": {},
   "outputs": [
    {
     "data": {
      "text/plain": [
       "True"
      ]
     },
     "execution_count": 3,
     "metadata": {},
     "output_type": "execute_result"
    }
   ],
   "source": [
    "sp.Load(\"test/test_model.model\")"
   ]
  },
  {
   "cell_type": "code",
   "execution_count": 4,
   "metadata": {},
   "outputs": [],
   "source": [
    "import os\n",
    "destPath=('../data/always.txt')\n",
    "f=open(destPath, \"r\")"
   ]
  },
  {
   "cell_type": "code",
   "execution_count": 5,
   "metadata": {},
   "outputs": [],
   "source": [
    "contents =f.read()"
   ]
  },
  {
   "cell_type": "code",
   "execution_count": 6,
   "metadata": {},
   "outputs": [
    {
     "name": "stdout",
     "output_type": "stream",
     "text": [
      "['▁', 'That', '▁A', 'ri', 'z', 'on', 'a', '▁s', 'k', 'y', '▁b', 'ur', 'n', 'ing', '▁in', '▁your', '▁eyes', '\\n', 'You', '▁look', '▁at', '▁me', '▁and', ',', '▁b', 'a', 'b', 'e', ',', '▁I', '▁w', 'an', 'n', 'a', '▁catch', '▁on', '▁f', 'i', 're', '\\n', 'I', 't', \"'\", 's', '▁bu', 'ri', 'ed', '▁in', '▁my', '▁so', 'ul', '▁like', '▁C', 'al', 'if', 'or', 'n', 'i', 'a', '▁go', 'l', 'd', '\\n', 'You', '▁found', '▁the', '▁', 'light', '▁in', '▁me', '▁that', '▁I', '▁could', 'n', \"'\", 't', '▁find', '\\n', 'S', 'o', '▁when', '▁I', \"'\", 'm', '▁all', '▁', 'ch', 'o', 'k', 'ed', '▁up', '\\n', 'B', 'ut', '▁I', '▁can', \"'\", 't', '▁find', '▁the', '▁w', 'or', 'd', 's', '\\n', 'E', 'ver', 'y', '▁time', '▁we', '▁say', '▁good', 'b', 'y', 'e', '\\n', 'B', 'a', 'b', 'y', ',', '▁it', '▁hu', 'r', 't', 's', '\\n', 'W', 'h', 'en', '▁the', '▁s', 'un', '▁go', 'es', '▁down', '\\n', 'A', 'n', 'd', '▁the', '▁b', 'and', '▁w', 'on', \"'\", 't', '▁play', '\\n', 'I', \"'\", 'll', '▁always', '▁re', 'm', 'e', 'm', 'b', 'er', '▁us', '▁this', '▁way', '\\n', 'L', 'o', 'ver', 's', '▁in', '▁the', '▁night', '\\n', 'P', 'o', 'e', 't', 's', '▁try', 'ing', '▁to', '▁write', '\\n', 'W', 'e', '▁don', \"'\", 't', '▁know', '▁how', '▁to', '▁', 'r', 'h', 'y', 'm', 'e', '\\n', 'B', 'ut', ',', '▁da', 'm', 'n', ',', '▁we', '▁try', '\\n', 'B', 'ut', '▁all', '▁I', '▁re', 'ally', '▁know', '\\n', 'You', \"'\", 're', '▁where', '▁I', '▁w', 'an', 'n', 'a', '▁go', '\\n', 'The', '▁part', '▁of', '▁me', '▁that', \"'\", 's', '▁you', '▁will', '▁never', '▁di', 'e', '\\n', 'S', 'o', '▁when', '▁I', \"'\", 'm', '▁all', '▁', 'ch', 'o', 'k', 'ed', '▁up', '\\n', 'B', 'ut', '▁I', '▁can', \"'\", 't', '▁find', '▁the', '▁w', 'or', 'd', 's', '\\n', 'E', 'ver', 'y', '▁time', '▁we', '▁say', '▁good', 'b', 'y', 'e', '\\n', 'B', 'a', 'b', 'y', ',', '▁it', '▁hu', 'r', 't', 's', '\\n', 'W', 'h', 'en', '▁the', '▁s', 'un', '▁go', 'es', '▁down', '\\n', 'A', 'n', 'd', '▁the', '▁b', 'and', '▁w', 'on', \"'\", 't', '▁play', '\\n', 'I', \"'\", 'll', '▁always', '▁re', 'm', 'e', 'm', 'b', 'er', '▁us', '▁this', '▁way', '\\n', 'O', 'h', ',', '.', '.', '.']\n"
     ]
    }
   ],
   "source": [
    "a=sp.EncodeAsPieces(contents)\n",
    "print(a)"
   ]
  },
  {
   "cell_type": "code",
   "execution_count": 7,
   "metadata": {},
   "outputs": [
    {
     "name": "stdout",
     "output_type": "stream",
     "text": [
      "[4, 282, 104, 83, 997, 112, 19, 51, 46, 34, 80, 111, 24, 18, 20, 252, 621, 0, 441, 368, 61, 33, 13, 5, 80, 19, 66, 16, 5, 9, 102, 84, 24, 19, 903, 59, 74, 25, 56, 0, 100, 15, 32, 8, 378, 83, 12, 20, 45, 71, 229, 110, 408, 73, 270, 54, 24, 25, 19, 121, 31, 17, 0, 441, 436, 7, 4, 531, 20, 33, 36, 9, 155, 24, 32, 15, 511, 0, 262, 21, 137, 9, 32, 26, 90, 4, 92, 21, 46, 12, 119, 0, 540, 166, 9, 162, 32, 15, 511, 7, 102, 54, 17, 8, 0, 120, 299, 34, 171, 115, 211, 301, 66, 34, 16, 0, 540, 19, 66, 34, 5, 27, 550, 30, 15, 8, 0, 321, 60, 98, 7, 51, 160, 121, 117, 245, 0, 194, 24, 17, 7, 80, 253, 102, 112, 32, 15, 824, 0, 100, 32, 88, 695, 70, 26, 16, 26, 66, 40, 197, 65, 184, 0, 277, 21, 299, 8, 20, 7, 222, 0, 422, 21, 16, 15, 8, 728, 18, 10, 858, 0, 321, 16, 274, 32, 15, 208, 311, 10, 4, 30, 60, 34, 26, 16, 0, 540, 166, 5, 430, 26, 24, 5, 115, 728, 0, 540, 166, 90, 9, 70, 276, 208, 0, 441, 32, 56, 346, 9, 102, 84, 24, 19, 121, 0, 369, 317, 14, 33, 36, 32, 8, 49, 172, 398, 433, 16, 0, 262, 21, 137, 9, 32, 26, 90, 4, 92, 21, 46, 12, 119, 0, 540, 166, 9, 162, 32, 15, 511, 7, 102, 54, 17, 8, 0, 120, 299, 34, 171, 115, 211, 301, 66, 34, 16, 0, 540, 19, 66, 34, 5, 27, 550, 30, 15, 8, 0, 321, 60, 98, 7, 51, 160, 121, 117, 245, 0, 194, 24, 17, 7, 80, 253, 102, 112, 32, 15, 824, 0, 100, 32, 88, 695, 70, 26, 16, 26, 66, 40, 197, 65, 184, 0, 258, 60, 5, 6, 6, 6]\n"
     ]
    }
   ],
   "source": [
    "b=sp.EncodeAsIds(contents)\n",
    "print(b)"
   ]
  },
  {
   "cell_type": "code",
   "execution_count": 8,
   "metadata": {},
   "outputs": [
    {
     "data": {
      "text/plain": [
       "\"That Arizona sky burning in your eyes\\nYou look at me and, babe, I wanna catch on fire\\nIt's buried in my soul like California gold\\nYou found the light in me that I couldn't find\\nSo when I'm all choked up\\nBut I can't find the words\\nEvery time we say goodbye\\nBaby, it hurts\\nWhen the sun goes down\\nAnd the band won't play\\nI'll always remember us this way\\nLovers in the night\\nPoets trying to write\\nWe don't know how to rhyme\\nBut, damn, we try\\nBut all I really know\\nYou're where I wanna go\\nThe part of me that's you will never die\\nSo when I'm all choked up\\nBut I can't find the words\\nEvery time we say goodbye\\nBaby, it hurts\\nWhen the sun goes down\\nAnd the band won't play\\nI'll always remember us this way\\nOh,...\""
      ]
     },
     "execution_count": 8,
     "metadata": {},
     "output_type": "execute_result"
    }
   ],
   "source": [
    "sp.DecodePieces(a)"
   ]
  },
  {
   "cell_type": "code",
   "execution_count": 9,
   "metadata": {},
   "outputs": [
    {
     "data": {
      "text/plain": [
       "\"That Arizona sky burning in your eyes ⁇ You look at me and, babe, I wanna catch on fire ⁇ It's buried in my soul like California gold ⁇ You found the light in me that I couldn't find ⁇ So when I'm all choked up ⁇ But I can't find the words ⁇ Every time we say goodbye ⁇ Baby, it hurts ⁇ When the sun goes down ⁇ And the band won't play ⁇ I'll always remember us this way ⁇ Lovers in the night ⁇ Poets trying to write ⁇ We don't know how to rhyme ⁇ But, damn, we try ⁇ But all I really know ⁇ You're where I wanna go ⁇ The part of me that's you will never die ⁇ So when I'm all choked up ⁇ But I can't find the words ⁇ Every time we say goodbye ⁇ Baby, it hurts ⁇ When the sun goes down ⁇ And the band won't play ⁇ I'll always remember us this way ⁇ Oh,...\""
      ]
     },
     "execution_count": 9,
     "metadata": {},
     "output_type": "execute_result"
    }
   ],
   "source": [
    "sp.DecodeIds(b)\n",
    "#don't know why has double question marks"
   ]
  },
  {
   "cell_type": "code",
   "execution_count": 10,
   "metadata": {},
   "outputs": [
    {
     "data": {
      "text/plain": [
       "1000"
      ]
     },
     "execution_count": 10,
     "metadata": {},
     "output_type": "execute_result"
    }
   ],
   "source": [
    "sp.GetPieceSize()"
   ]
  },
  {
   "cell_type": "code",
   "execution_count": 11,
   "metadata": {},
   "outputs": [
    {
     "data": {
      "text/plain": [
       "'.'"
      ]
     },
     "execution_count": 11,
     "metadata": {},
     "output_type": "execute_result"
    }
   ],
   "source": [
    "sp.IdToPiece(6)"
   ]
  },
  {
   "cell_type": "code",
   "execution_count": 12,
   "metadata": {},
   "outputs": [
    {
     "data": {
      "text/plain": [
       "282"
      ]
     },
     "execution_count": 12,
     "metadata": {},
     "output_type": "execute_result"
    }
   ],
   "source": [
    " sp.PieceToId('That')"
   ]
  },
  {
   "cell_type": "code",
   "execution_count": 13,
   "metadata": {},
   "outputs": [
    {
     "data": {
      "text/plain": [
       "1000"
      ]
     },
     "execution_count": 13,
     "metadata": {},
     "output_type": "execute_result"
    }
   ],
   "source": [
    "len(sp)"
   ]
  },
  {
   "cell_type": "code",
   "execution_count": 14,
   "metadata": {},
   "outputs": [
    {
     "data": {
      "text/plain": [
       "2"
      ]
     },
     "execution_count": 14,
     "metadata": {},
     "output_type": "execute_result"
    }
   ],
   "source": [
    "sp['</s>']"
   ]
  },
  {
   "cell_type": "code",
   "execution_count": null,
   "metadata": {},
   "outputs": [],
   "source": []
  }
 ],
 "metadata": {
  "kernelspec": {
   "display_name": "Python 3",
   "language": "python",
   "name": "python3"
  },
  "language_info": {
   "codemirror_mode": {
    "name": "ipython",
    "version": 3
   },
   "file_extension": ".py",
   "mimetype": "text/x-python",
   "name": "python",
   "nbconvert_exporter": "python",
   "pygments_lexer": "ipython3",
   "version": "3.7.4"
  },
  "latex_envs": {
   "LaTeX_envs_menu_present": true,
   "autoclose": false,
   "autocomplete": true,
   "bibliofile": "biblio.bib",
   "cite_by": "apalike",
   "current_citInitial": 1,
   "eqLabelWithNumbers": true,
   "eqNumInitial": 1,
   "hotkeys": {
    "equation": "Ctrl-E",
    "itemize": "Ctrl-I"
   },
   "labels_anchors": false,
   "latex_user_defs": false,
   "report_style_numbering": false,
   "user_envs_cfg": false
  },
  "toc": {
   "base_numbering": 1,
   "nav_menu": {},
   "number_sections": true,
   "sideBar": true,
   "skip_h1_title": false,
   "title_cell": "Table of Contents",
   "title_sidebar": "Contents",
   "toc_cell": false,
   "toc_position": {},
   "toc_section_display": true,
   "toc_window_display": false
  }
 },
 "nbformat": 4,
 "nbformat_minor": 2
}
